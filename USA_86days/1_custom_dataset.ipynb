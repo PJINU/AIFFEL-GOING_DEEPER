{
  "nbformat": 4,
  "nbformat_minor": 0,
  "metadata": {
    "colab": {
      "name": "1_custom_dataset.ipynb",
      "provenance": [],
      "authorship_tag": "ABX9TyNOsgV4F+xPLYiLSBnocvVr",
      "include_colab_link": true
    },
    "kernelspec": {
      "name": "python3",
      "display_name": "Python 3"
    },
    "language_info": {
      "name": "python"
    }
  },
  "cells": [
    {
      "cell_type": "markdown",
      "metadata": {
        "id": "view-in-github",
        "colab_type": "text"
      },
      "source": [
        "<a href=\"https://colab.research.google.com/github/PJINU/AIFFEL-GOING_DEEPER/blob/main/USA_86days/1_custom_dataset.ipynb\" target=\"_parent\"><img src=\"https://colab.research.google.com/assets/colab-badge.svg\" alt=\"Open In Colab\"/></a>"
      ]
    },
    {
      "cell_type": "code",
      "execution_count": 3,
      "metadata": {
        "colab": {
          "base_uri": "https://localhost:8080/"
        },
        "id": "zMBnn09qQ-KG",
        "outputId": "98141764-849e-4854-e921-abfcbee7bd14"
      },
      "outputs": [
        {
          "output_type": "stream",
          "name": "stdout",
          "text": [
            "5\n",
            "0 tensor([0])\n",
            "1 tensor([1])\n",
            "2 tensor([2])\n",
            "3 tensor([3])\n",
            "4 tensor([4])\n",
            "5 tensor([5])\n",
            "6 tensor([6])\n",
            "7 tensor([7])\n",
            "8 tensor([8])\n",
            "9 tensor([9])\n"
          ]
        }
      ],
      "source": [
        "# custom datset 만들기(easy.ver)\n",
        "\n",
        "import torch\n",
        "from torch.utils.data import Dataset, DataLoader\n",
        "\n",
        "class MyDataset1(Dataset):\n",
        "    def __init__(self,t):\n",
        "        self.t = t\n",
        "\n",
        "    def __len__(self):\n",
        "        return self.t\n",
        "\n",
        "    def __getitem__(self,idx):\n",
        "        return torch.LongTensor([idx])\n",
        "\n",
        "\n",
        "if __name__ == '__main__':\n",
        "    dataset = MyDataset1(t=5)\n",
        "    print(len(dataset))\n",
        "    it = iter(dataset)\n",
        "\n",
        "    for i in range(10):\n",
        "        print(i, next(it))\n"
      ]
    },
    {
      "cell_type": "markdown",
      "source": [
        "### DataLoader의 batch_size와 Dataset의 index 사이의 관계\n",
        "- batch_size만큼 dataset에서 데이터를 가져온다. batch_size만큼 임의의 인덱스를 뽑아주면 그 인덱스 번호에 맞는 데이터를 가져온다. shuffle을 True로 설정하면 데이터가 섞여서 가져오지만 False로 설정하면 데이터를 순서대로 가져온다.\n",
        "    - ex)  \n",
        "        data = [1,2,3,4,5,6,7,8,9,10]  \n",
        "        batch_size = 3 -> 임의의 번호 3개(index)를 선정 => (0,1,4), (3,5,2), (9,7,8), (6)  \n",
        "        data에서 첫번째로 (0,1,4)번에 해당하는 데이터 (1,2,5)을 가져옴  \n",
        "        두번째로 (3,5,2)번에 해당하는 데이터 (4,6,3)을 가져옴  \n",
        "        세번째로 (9,7,8)번에 해당하는 데이터 (10,8,9)을 가져옴  \n",
        "        마지막으로 (6)번에 해당하는 데이터 (7)을 가져옴\n",
        "\n",
        "- DataLoader가 Dataset의 len을 먼저 호출하여 전체 데이터 개수를 확인 -> 전체 데이터 개수를 확인후 그 안에서 인덱스 번호를 임의로 선정\n",
        "\n",
        "- batch에 들어가는 데이터의 길이는 동일해야 한다. 만약 동일하지 않은 경우는 어떻게 해야 할까?? ex) 문장\n",
        "    - 텍스트 데이터로 짜보기"
      ],
      "metadata": {
        "id": "4uuJF1WbjelA"
      }
    },
    {
      "cell_type": "code",
      "source": [
        "# custom datset 만들기2(easy.ver)\n",
        "\n",
        "import torch\n",
        "from torch.utils.data import Dataset, DataLoader\n",
        "import numpy as np\n",
        "\n",
        "# input_data = np.array([1,2,3,4,5,6,7,8,9,10,11,12])\n",
        "input_data = np.arange(12).reshape(3,4)\n",
        "\n",
        "\n",
        "class MyDataset1(Dataset):\n",
        "    def __init__(self, data):\n",
        "        self.data = data\n",
        "        self.length = len(data)\n",
        "\n",
        "    def __len__(self):\n",
        "        return self.length\n",
        "\n",
        "    def __getitem__(self, idx): # 한 개의 데이터에 대해서 적용할 \n",
        "        x = np.array([idx])\n",
        "        y = self.data[idx]\n",
        "        return x, y\n",
        "\n",
        "\n",
        "if __name__ == '__main__':\n",
        "    dataset = MyDataset1(input_data)\n",
        "    dataloader = DataLoader(dataset = dataset, batch_size=5, shuffle = True)\n",
        "    for loop in range(2):\n",
        "        print(loop)\n",
        "        for batch in dataloader:\n",
        "            data_index, output_data = batch\n",
        "            print(f'index : {data_index}')\n",
        "            print(f'data : {output_data}')\n",
        "            print('---')"
      ],
      "metadata": {
        "colab": {
          "base_uri": "https://localhost:8080/"
        },
        "id": "PjepRd2YR3Pp",
        "outputId": "1007ef4a-81c6-4a43-86f8-0bc483bf4e41"
      },
      "execution_count": 38,
      "outputs": [
        {
          "output_type": "stream",
          "name": "stdout",
          "text": [
            "0\n",
            "index : tensor([[1],\n",
            "        [2],\n",
            "        [0]])\n",
            "data : tensor([[ 4,  5,  6,  7],\n",
            "        [ 8,  9, 10, 11],\n",
            "        [ 0,  1,  2,  3]])\n",
            "---\n",
            "1\n",
            "index : tensor([[2],\n",
            "        [1],\n",
            "        [0]])\n",
            "data : tensor([[ 8,  9, 10, 11],\n",
            "        [ 4,  5,  6,  7],\n",
            "        [ 0,  1,  2,  3]])\n",
            "---\n"
          ]
        }
      ]
    },
    {
      "cell_type": "code",
      "source": [
        "# custom datset 만들기2(easy.ver)\n",
        "\n",
        "import torch\n",
        "from torch.utils.data import Dataset, DataLoader\n",
        "import numpy as np\n",
        "\n",
        "# input_data = np.array([1,2,3,4,5,6,7,8,9,10,11,12])\n",
        "# input_data = np.array([[1,2],[3,4,5],[6,7]])\n",
        "# input_data = np.arange(12).reshape(3,4)\n",
        "input_data = np.random.randint(0, 3000, (10,3,10,10))\n",
        "\n",
        "\n",
        "class MyDataset1(Dataset):\n",
        "    def __init__(self, data):\n",
        "        self.data = data\n",
        "        self.length = len(data)\n",
        "\n",
        "    def __len__(self):\n",
        "        return self.length\n",
        "\n",
        "    def __getitem__(self, idx): # 한 개의 데이터에 대해서 적용할 \n",
        "        x = np.array([idx])\n",
        "        y = self.data[idx]\n",
        "        return x, y\n",
        "\n",
        "\n",
        "if __name__ == '__main__':\n",
        "    dataset = MyDataset1(input_data)\n",
        "    dataloader = DataLoader(dataset = dataset, batch_size=5, shuffle = True)\n",
        "    for loop in range(2):\n",
        "        print(loop)\n",
        "        for batch in dataloader:\n",
        "            data_index, output_data = batch\n",
        "            print(f'index : {data_index.shape}')\n",
        "            print(f'data : {output_data.shape}')\n",
        "            # print('---')"
      ],
      "metadata": {
        "colab": {
          "base_uri": "https://localhost:8080/"
        },
        "id": "7-ZxoL8svZeB",
        "outputId": "877647af-3f6e-45b9-9d77-b62980be37cf"
      },
      "execution_count": 4,
      "outputs": [
        {
          "output_type": "stream",
          "name": "stdout",
          "text": [
            "0\n",
            "index : torch.Size([5, 1])\n",
            "data : torch.Size([5, 3, 10, 10])\n",
            "index : torch.Size([5, 1])\n",
            "data : torch.Size([5, 3, 10, 10])\n",
            "1\n",
            "index : torch.Size([5, 1])\n",
            "data : torch.Size([5, 3, 10, 10])\n",
            "index : torch.Size([5, 1])\n",
            "data : torch.Size([5, 3, 10, 10])\n"
          ]
        }
      ]
    },
    {
      "cell_type": "markdown",
      "source": [
        "### 데이터의 길이가 다른 경우 "
      ],
      "metadata": {
        "id": "_sEhQOEEzdgC"
      }
    },
    {
      "cell_type": "code",
      "source": [
        "sentences = [\n",
        "            'I like apple',\n",
        "            'I dont like apple',\n",
        "            'My name is Tony Stark'\n",
        "]\n",
        "\n"
      ],
      "metadata": {
        "id": "P14dNchkW3gb"
      },
      "execution_count": 5,
      "outputs": []
    },
    {
      "cell_type": "code",
      "source": [
        "# 토큰화\n",
        "\n",
        "tokenized = []\n",
        "\n",
        "for sentence in sentences:\n",
        "    tokenized.append(sentence.split())\n",
        "\n",
        "print(tokenized)"
      ],
      "metadata": {
        "colab": {
          "base_uri": "https://localhost:8080/"
        },
        "id": "fwHOgWXpRrUN",
        "outputId": "5f1cbf4d-1d09-4fd1-9526-1a0129210755"
      },
      "execution_count": 6,
      "outputs": [
        {
          "output_type": "stream",
          "name": "stdout",
          "text": [
            "[['I', 'like', 'apple'], ['I', 'dont', 'like', 'apple'], ['My', 'name', 'is', 'Tony', 'Stark']]\n"
          ]
        }
      ]
    },
    {
      "cell_type": "code",
      "source": [
        "!pip install nltk"
      ],
      "metadata": {
        "colab": {
          "base_uri": "https://localhost:8080/"
        },
        "id": "8af3IbIwSoWG",
        "outputId": "201c7aaa-3577-4220-a60f-8ff5370840c1"
      },
      "execution_count": 7,
      "outputs": [
        {
          "output_type": "stream",
          "name": "stdout",
          "text": [
            "Requirement already satisfied: nltk in /usr/local/lib/python3.7/dist-packages (3.2.5)\n",
            "Requirement already satisfied: six in /usr/local/lib/python3.7/dist-packages (from nltk) (1.15.0)\n"
          ]
        }
      ]
    },
    {
      "cell_type": "code",
      "source": [
        "# 빈도수별로 단어장 형성\n",
        "\n",
        "from nltk import FreqDist\n",
        "\n",
        "vocab = FreqDist(np.hstack(tokenized))\n",
        "print(len(vocab))"
      ],
      "metadata": {
        "colab": {
          "base_uri": "https://localhost:8080/"
        },
        "id": "abdXlxDJTTDT",
        "outputId": "834bcd6e-af1c-4c94-8d98-681a0a899223"
      },
      "execution_count": 9,
      "outputs": [
        {
          "output_type": "stream",
          "name": "stdout",
          "text": [
            "9\n"
          ]
        }
      ]
    },
    {
      "cell_type": "code",
      "source": [
        "# 단어별 인덱스 설정\n",
        "\n",
        "word_to_index = {}\n",
        "\n",
        "for index, word in enumerate(vocab):\n",
        "    word_to_index[word] = index + 2\n",
        "word_to_index['pad'] = 1\n",
        "word_to_index['unk'] = 0\n",
        "\n",
        "word_to_index\n"
      ],
      "metadata": {
        "colab": {
          "base_uri": "https://localhost:8080/"
        },
        "id": "YmKWmUvIT5-B",
        "outputId": "e5733c78-c1c7-429f-9679-cb814a5fc698"
      },
      "execution_count": 14,
      "outputs": [
        {
          "output_type": "execute_result",
          "data": {
            "text/plain": [
              "{'I': 2,\n",
              " 'My': 6,\n",
              " 'Stark': 10,\n",
              " 'Tony': 9,\n",
              " 'apple': 4,\n",
              " 'dont': 5,\n",
              " 'is': 8,\n",
              " 'like': 3,\n",
              " 'name': 7,\n",
              " 'pad': 1,\n",
              " 'unk': 0}"
            ]
          },
          "metadata": {},
          "execution_count": 14
        }
      ]
    },
    {
      "cell_type": "code",
      "source": [
        "# 단어를 인덱스로 바꿔주기(인코딩)\n",
        "\n",
        "encoded = []\n",
        "for line in tokenized:\n",
        "    temp = []\n",
        "    for w in line:\n",
        "        try:\n",
        "            temp.append(word_to_index[w])\n",
        "        except:\n",
        "            temp.append(word_to_index['unk'])\n",
        "\n",
        "    encoded.append(temp)\n",
        "\n",
        "encoded"
      ],
      "metadata": {
        "colab": {
          "base_uri": "https://localhost:8080/"
        },
        "id": "wyZgFmInWZH7",
        "outputId": "9054cd1e-5c46-460a-ef85-24d2cebe483f"
      },
      "execution_count": 15,
      "outputs": [
        {
          "output_type": "execute_result",
          "data": {
            "text/plain": [
              "[[2, 3, 4], [2, 5, 3, 4], [6, 7, 8, 9, 10]]"
            ]
          },
          "metadata": {},
          "execution_count": 15
        }
      ]
    },
    {
      "cell_type": "code",
      "source": [
        "max_len = max(len(l) for l in encoded)\n",
        "max_len"
      ],
      "metadata": {
        "colab": {
          "base_uri": "https://localhost:8080/"
        },
        "id": "WMktv82tXjwI",
        "outputId": "631a3e53-b349-4ce3-8c39-169b7aab4c1e"
      },
      "execution_count": 17,
      "outputs": [
        {
          "output_type": "execute_result",
          "data": {
            "text/plain": [
              "5"
            ]
          },
          "metadata": {},
          "execution_count": 17
        }
      ]
    },
    {
      "cell_type": "code",
      "source": [
        "for line in encoded:\n",
        "    if len(line) < max_len:\n",
        "        line += [word_to_index['pad']] * (max_len - len(line))\n",
        "\n",
        "encoded"
      ],
      "metadata": {
        "colab": {
          "base_uri": "https://localhost:8080/"
        },
        "id": "U5zTWJWQYQMM",
        "outputId": "b7d1ba1f-7f68-4718-f19f-e965c89f06d2"
      },
      "execution_count": 20,
      "outputs": [
        {
          "output_type": "execute_result",
          "data": {
            "text/plain": [
              "[[2, 3, 4, 1, 1], [2, 5, 3, 4, 1], [6, 7, 8, 9, 10]]"
            ]
          },
          "metadata": {},
          "execution_count": 20
        }
      ]
    },
    {
      "cell_type": "code",
      "source": [
        ""
      ],
      "metadata": {
        "id": "STtvoytOZBTS"
      },
      "execution_count": null,
      "outputs": []
    }
  ]
}